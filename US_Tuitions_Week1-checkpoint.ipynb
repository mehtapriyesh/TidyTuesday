{
 "cells": [
  {
   "cell_type": "code",
   "execution_count": null,
   "metadata": {},
   "outputs": [],
   "source": [
    "\n",
    "#This is my first Tidy Tuesday challenge. I will be starting with first challenge.\n",
    "#United States Tuition costs, 02/04/2018\n",
    "\n",
    "import pandas as pd\n",
    "import seaborn as sns\n",
    "import matplotlib.pyplot as plt\n",
    "import numpy as np"
   ]
  },
  {
   "cell_type": "code",
   "execution_count": null,
   "metadata": {},
   "outputs": [],
   "source": [
    "tuition = pd.read_excel(r\"C:\\Users\\mehta\\Downloads\\us_avg_tuition.xlsx\")\n",
    "\n",
    "#So we can see that we've got statewise average tuition cost data fromm all the 50 states of US from 2004-2016. \n",
    "# =============================================================================\n",
    "# Some of the things that we can look into are:\n",
    "#     1) Overall average of each year\n",
    "#     2) Getting Overall average of each state \n",
    "#     3) Making Chloropeths for *2*\n",
    "#     4) Trying to predict the 2015-16 averages using previous 5 years data.\n",
    "#     5) We can create an errorbar showing each state's max and min along with the average after inflation adjustment \n",
    "# =============================================================================\n",
    "            \n",
    "inf = pd.read_excel(r\"C:\\Users\\mehta\\Documents\\us_annualinf.xlsx\", header = None)[[0,15]].loc[:11]\n"
   ]
  },
  {
   "cell_type": "code",
   "execution_count": null,
   "metadata": {},
   "outputs": [],
   "source": [
    "inf.columns = [\"Year\",\"Inf\"]\n",
    "inf.Inf = inf.Inf.iloc[-1]/inf.Inf #Getting inflation adjustment factors to get all values in terms of 2015-16 rates.\n",
    "tuition[tuition.select_dtypes('number').columns] = tuition.select_dtypes('number')*np.asarray(inf.T.iloc[1])\n",
    "tuition[\"avg\"] = tuition.select_dtypes('number').mean(axis=1)\n",
    "tuition[\"max\"] = tuition.select_dtypes('number').max(axis=1)\n",
    "tuition[\"min\"] = tuition.select_dtypes('number').min(axis=1)\n",
    "tuition.sort_values(\"avg\", ascending=False, inplace = True)\n"
   ]
  },
  {
   "cell_type": "code",
   "execution_count": null,
   "metadata": {},
   "outputs": [],
   "source": [
    "\n",
    "#Getting average of each state's tuition fees\n",
    "plt.figure(figsize=(10, 6))\n",
    "sns.pointplot(data=tuition.head(15), y = \"State\", x = \"avg\", join = False)\n",
    "plt.show()\n",
    "\n",
    "#Getting average of all years\n",
    "\n",
    "plt.figure(figsize = (10,6))\n",
    "tuition.mean().iloc[:-3].plot()\n",
    "plt.ylim(7500,10000)\n",
    "plt.title(\"Getting a trend of average tuition cost in US from 2004-2016 (costs are inflation adjusted as per 2016 rates.)\")\n",
    "plt.show()\n",
    "\n",
    "\n",
    "plt.figure(figsize = (10,6))\n",
    "sns.barplot(\"avg\",\"State\", data = tuition.head(20))\n",
    "plt.title(\"Getting a average tuition cost in top 20 states of US from 2004-2016 (costs are inflation adjusted as per 2016 rates.)\")\n",
    "plt.show()"
   ]
  }
 ],
 "metadata": {
  "kernelspec": {
   "display_name": "Python 3",
   "language": "python",
   "name": "python3"
  }
 },
 "nbformat": 4,
 "nbformat_minor": 4
}
